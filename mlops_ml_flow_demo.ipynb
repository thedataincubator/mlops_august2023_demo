{
 "cells": [
  {
   "cell_type": "markdown",
   "id": "18ee8705",
   "metadata": {},
   "source": [
    "# Machine Learning Operations (MLOps) & MLflow demo"
   ]
  },
  {
   "cell_type": "markdown",
   "id": "a944034c",
   "metadata": {},
   "source": [
    "## What is MLOps?"
   ]
  },
  {
   "cell_type": "markdown",
   "id": "e8e8d0ac",
   "metadata": {},
   "source": [
    "MLOps takes a software engineering approach to machine learning — from training the machine learning models to deploying them into production. MLOps is a collection of best practices to increase the value from machine learning through systematic improvement of the process.\n",
    "\n",
    "The term MLOps is the combination of two fields ML (Machine Learning) and Ops (Operations) – which may refer to development/system operations. MLOps is a systematic process for developing, training, deploying, and optimizing all kinds of machine learning models (e.g., statistical, deep learning, and natural language processing) that enable AI-based applications. \n",
    "\n",
    "Organizations are increasingly relying on machine learning (ML) models to drive business value, but the operationalization of these models remains a challenge. Unlike traditional software applications, ML models require special considerations due to their reliance on data, the complexity of the algorithms used, and the need for continual model improvement. Without proper MLOps practices, organizations risk deploying models that are inaccurate, unreliable, or do not scale, leading to negative business outcomes and wasted resources.\n",
    "\n",
    "The motivation for doing MLOps is to address these challenges and ensure that organizations can deliver high-quality, reliable ML models to production environments. MLOps helps to streamline the ML lifecycle by providing a framework for data management, model training, deployment, and monitoring. It also provides a way to manage the complex infrastructure required to support ML workloads, including specific data storage and compute requirements.\n",
    "\n",
    "ML models require special considerations compared to traditional software development because they are reliant on data, which can be noisy, incomplete, or biased. This means that data management and preprocessing are critical components of MLOps. In addition, ML models require ongoing improvement and iteration, which requires specialized tooling and processes to support experimentation and model tracking.\n",
    "\n",
    "Most MLOps platforms offer collaborative model construction, training, assessment, and deployment in addition to data preparation to drive the modeling and training processes."
   ]
  },
  {
   "cell_type": "markdown",
   "id": "9d1521ed",
   "metadata": {},
   "source": [
    "## MLOps steps"
   ]
  },
  {
   "cell_type": "markdown",
   "id": "4e9e7f6d",
   "metadata": {},
   "source": [
    "1. **Collect data**: Gather the large quantity of high quality data is often the longest and most expensive step.\n",
    "<br><br>\n",
    "1. **Process data**: Most data needs to extensively cleaned before it is ready for ML. Supervised ML is the most powerful type of ML and requires each piece of data have a trustworthy label.\n",
    "<br><br>\n",
    "1. **Train and improve models**: Select ML algorithms, then train the model, try different hyperparameters. This steps takes the most amount of compute resources. At a large scale, ML tracking software is useful.\n",
    "<br><br>\n",
    "1. **Deploy models to production**: Package trained model and dependencies for a specific production environment.\n",
    "<br><br>\n",
    "1. **Monitor models in production**: Once the model is being served to end users, it has to be watched. There are standard software in production requirements. The additional ML requirements are changes in data. The distribution of data could change, there could be new features, and new target labels.\n",
    "<br><br>\n",
    "1. **Repeat steps 1 - 5**: ML is iterative process. Each step is an ongoing process that needs change management."
   ]
  },
  {
   "cell_type": "markdown",
   "id": "d793c1ba",
   "metadata": {},
   "source": [
    "## MLflow"
   ]
  },
  {
   "cell_type": "markdown",
   "id": "22d1daad",
   "metadata": {},
   "source": [
    "MLflow is an open source platform that is designed to help manage the ML lifecycle.  \n",
    "\n",
    "Primary MLflow components:\n",
    "\n",
    "* Tracking: Keeps track of all the runs - code versions, start/end times, metrics, and other information.\n",
    "* Projects: Provides a standard way to package all of the relevant code.\n",
    "* Models: Ensures formatting and keeps metadata to enables to be served in production environments\n",
    "* Model Registry: A centralized model store to help collaboratively manage the full lifecycle of an MLflow model.   \n",
    "\n",
    "![workflow overview](images/quickstart_tracking_overview.png)\n",
    "[Image source](https://mlflow.org/)\n",
    "\n",
    "Let's walk through how to use MLflow to track machine learning experiments"
   ]
  },
  {
   "cell_type": "code",
   "execution_count": null,
   "id": "9cf9b735",
   "metadata": {},
   "outputs": [],
   "source": [
    "# Load the data\n",
    "from sklearn.datasets import fetch_california_housing\n",
    "\n",
    "data = fetch_california_housing()\n",
    "\n",
    "X = data.data\n",
    "y = data.target"
   ]
  },
  {
   "cell_type": "code",
   "execution_count": null,
   "id": "418897e0",
   "metadata": {},
   "outputs": [],
   "source": [
    "# Split the data into training and test sets\n",
    "from sklearn.model_selection import train_test_split\n",
    "\n",
    "X_train, X_test, y_train, y_test = train_test_split(X, y)"
   ]
  },
  {
   "cell_type": "code",
   "execution_count": null,
   "id": "81cccd33",
   "metadata": {},
   "outputs": [],
   "source": [
    "# Define the models and their possible hyperparameter options\n",
    "from sklearn.ensemble     import RandomForestRegressor\n",
    "from sklearn.linear_model import Ridge\n",
    "\n",
    "models = {\n",
    "    \"RidgeRegression\": {\n",
    "        \"model\": Ridge(),\n",
    "        \"params\": {\n",
    "            \"alpha\": [0, 1]\n",
    "        }\n",
    "    },\n",
    "    \"RandomForestRegression\": {\n",
    "        \"model\": RandomForestRegressor(),\n",
    "        \"params\": {\n",
    "            \"n_estimators\": [5, 10],\n",
    "            \"max_depth\": [3, 5]\n",
    "        }\n",
    "    },\n",
    "}"
   ]
  },
  {
   "cell_type": "code",
   "execution_count": null,
   "id": "97a9afd5",
   "metadata": {},
   "outputs": [],
   "source": [
    "# Run cross validation experiments and track results with MLflow\n",
    "import mlflow\n",
    "import mlflow.sklearn\n",
    "import numpy as np\n",
    "from   mlflow.tracking         import MlflowClient\n",
    "from   sklearn.model_selection import GridSearchCV, cross_val_score\n",
    "from   sklearn.metrics         import mean_squared_error\n",
    "\n",
    "client = MlflowClient()\n",
    "\n",
    "for model_name, model_info in models.items():\n",
    "    with mlflow.start_run() as run:\n",
    "        # Run grid search cross validation\n",
    "        clf = GridSearchCV(model_info[\"model\"], model_info[\"params\"], cv=3)\n",
    "        clf.fit(X_train, y_train)\n",
    "\n",
    "        # Log parameters, metrics, and model\n",
    "        mlflow.log_param(\"Model\", model_name)\n",
    "        for param_name, param_value in clf.cv_results_.items():\n",
    "            mlflow.log_param(param_name, param_value)\n",
    "\n",
    "        # Cross validation scores\n",
    "        cv_scores = cross_val_score(clf.best_estimator_, X_train, y_train, cv=3)\n",
    "        mlflow.log_metric(\"CV mean score\", np.mean(cv_scores))\n",
    "        mlflow.log_metric(\"CV std score\", np.std(cv_scores))\n",
    "\n",
    "        # Test score\n",
    "        test_pred = clf.best_estimator_.predict(X_test)\n",
    "        test_score = mean_squared_error(y_test, test_pred)\n",
    "        mlflow.log_metric(\"Test score\", test_score)\n",
    "\n",
    "        # Get the current run's details using MLflow client\n",
    "        run_id = run.info.run_id\n",
    "        run_data = client.get_run(run_id).data\n",
    "\n",
    "        # Print the results\n",
    "        print(f\"Results for Run ID: {run_id}\")\n",
    "        for param_key, param_value in run_data.params.items():\n",
    "            print(f\"Parameter: {param_key:<17} -> {param_value}\")\n",
    "\n",
    "        for metric_key, metric_value in run_data.metrics.items():\n",
    "            print(f\"Metric:    {metric_key:<17} -> {metric_value}\")\n",
    "        print(\"-\"*30)"
   ]
  },
  {
   "cell_type": "markdown",
   "id": "7cc1665d",
   "metadata": {},
   "source": [
    "## Looking at experimental  results"
   ]
  },
  {
   "cell_type": "markdown",
   "id": "cfe02fbb",
   "metadata": {},
   "source": [
    "The results with MLflow’s tracking UI. To start the UI, run the following at the command line:\n",
    "\n",
    "```bash\n",
    "mlflow ui\n",
    "```\n",
    "\n",
    "Then navigate to http://localhost:5000 in a browser."
   ]
  },
  {
   "cell_type": "markdown",
   "id": "6de5a3d4",
   "metadata": {},
   "source": [
    "## MLflow limitations"
   ]
  },
  {
   "cell_type": "markdown",
   "id": "74a5276c",
   "metadata": {},
   "source": [
    "1. Relatively new library, thus there are bugs and rough edges.\n",
    "2. May have too many features for smaller ML projects.\n",
    "3. No support for collaboration."
   ]
  },
  {
   "cell_type": "markdown",
   "id": "efd858b5",
   "metadata": {},
   "source": [
    "## Conclusion\n"
   ]
  },
  {
   "cell_type": "markdown",
   "id": "005bee9d",
   "metadata": {},
   "source": [
    "* MLOps is set of best practices to systematically improve machine learning, especially in production environments.\n",
    "* MLflow is a Python package that supports more mature MLOps workflows.\n",
    "* MLflow can be used to track machine learning experiments. "
   ]
  }
 ],
 "metadata": {
  "kernelspec": {
   "display_name": "Python 3 (ipykernel)",
   "language": "python",
   "name": "python3"
  },
  "language_info": {
   "codemirror_mode": {
    "name": "ipython",
    "version": 3
   },
   "file_extension": ".py",
   "mimetype": "text/x-python",
   "name": "python",
   "nbconvert_exporter": "python",
   "pygments_lexer": "ipython3",
   "version": "3.9.16"
  }
 },
 "nbformat": 4,
 "nbformat_minor": 5
}
